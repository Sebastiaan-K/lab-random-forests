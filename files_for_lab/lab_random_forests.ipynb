{
 "cells": [
  {
   "cell_type": "code",
   "execution_count": 5,
   "id": "301c0e74",
   "metadata": {},
   "outputs": [
    {
     "name": "stdout",
     "output_type": "stream",
     "text": [
      "              precision    recall  f1-score   support\n",
      "\n",
      "     Class 0       1.00      1.00      1.00     18058\n",
      "     Class 1       1.00      1.00      1.00     18170\n",
      "\n",
      "    accuracy                           1.00     36228\n",
      "   macro avg       1.00      1.00      1.00     36228\n",
      "weighted avg       1.00      1.00      1.00     36228\n",
      "\n"
     ]
    }
   ],
   "source": [
    "import pandas as pd\n",
    "from sklearn.model_selection import train_test_split\n",
    "from sklearn.ensemble import RandomForestClassifier\n",
    "from sklearn.metrics import classification_report\n",
    "from sklearn.utils import resample\n",
    "\n",
    "numerical_df = pd.read_csv('numerical.csv')  \n",
    "categorical_df = pd.read_csv('categorical.csv')  \n",
    "target_df = pd.read_csv('target.csv')\n",
    "\n",
    "\n",
    "data_df = pd.concat([numerical_df, target_df], axis=1)\n",
    "\n",
    "\n",
    "majority_class = data_df[data_df['TARGET_B'] == 0]\n",
    "minority_class = data_df[data_df['TARGET_B'] == 1]\n",
    "minority_upsampled = resample(minority_class,\n",
    "                              replace=True,\n",
    "                              n_samples=len(majority_class),\n",
    "                              random_state=42)\n",
    "upsampled_df = pd.concat([majority_class, minority_upsampled])\n",
    "\n",
    "\n",
    "X = upsampled_df.drop('TARGET_B', axis=1)\n",
    "y = upsampled_df['TARGET_B']\n",
    "\n",
    "X_train, X_test, y_train, y_test = train_test_split(X, y, test_size=0.2, random_state=42)\n",
    "\n",
    "rf_classifier = RandomForestClassifier(random_state=42)\n",
    "\n",
    "rf_classifier.fit(X_train, y_train)\n",
    "\n",
    "y_pred = rf_classifier.predict(X_test)\n",
    "\n",
    "report = classification_report(y_test, y_pred, target_names=['Class 0', 'Class 1'])\n",
    "\n",
    "print(report)\n",
    "\n"
   ]
  },
  {
   "cell_type": "markdown",
   "id": "977ada9f",
   "metadata": {},
   "source": [
    "Discuss the model predictions and its impact on the business scenario:"
   ]
  },
  {
   "cell_type": "markdown",
   "id": "9150e8e4",
   "metadata": {},
   "source": [
    "* Since the reported model claims perfect prediction, the cost due to misclassification would be $0 according to the classification report.\n",
    "\n"
   ]
  },
  {
   "cell_type": "markdown",
   "id": "343ab937",
   "metadata": {},
   "source": [
    "In scenarios with class imbalance or when the costs of false positives and false negatives are not the same, accuracy is not the best performance metric."
   ]
  },
  {
   "cell_type": "markdown",
   "id": "9d3a6bcb",
   "metadata": {},
   "source": [
    "* Precision: If the cost of contacting non-responders is high, you would focus on precision to ensure that those predicted to respond are very likely to actually do so."
   ]
  },
  {
   "cell_type": "code",
   "execution_count": null,
   "id": "6fd92533",
   "metadata": {},
   "outputs": [],
   "source": []
  }
 ],
 "metadata": {
  "kernelspec": {
   "display_name": "Python 3 (ipykernel)",
   "language": "python",
   "name": "python3"
  },
  "language_info": {
   "codemirror_mode": {
    "name": "ipython",
    "version": 3
   },
   "file_extension": ".py",
   "mimetype": "text/x-python",
   "name": "python",
   "nbconvert_exporter": "python",
   "pygments_lexer": "ipython3",
   "version": "3.11.5"
  },
  "toc": {
   "base_numbering": 1,
   "nav_menu": {},
   "number_sections": true,
   "sideBar": true,
   "skip_h1_title": false,
   "title_cell": "Table of Contents",
   "title_sidebar": "Contents",
   "toc_cell": false,
   "toc_position": {},
   "toc_section_display": true,
   "toc_window_display": false
  }
 },
 "nbformat": 4,
 "nbformat_minor": 5
}
